{
 "cells": [
  {
   "cell_type": "markdown",
   "id": "1f85edb4-7732-4a79-8052-2f7a90b7efac",
   "metadata": {},
   "source": [
    "# MAGIC COMMANDS"
   ]
  },
  {
   "cell_type": "markdown",
   "id": "c7ac56a4-3055-4de6-bdad-fc77f111aa63",
   "metadata": {},
   "source": [
    "### Listing all magic commands"
   ]
  },
  {
   "cell_type": "code",
   "execution_count": 3,
   "id": "f91572f6-e691-4621-84df-77d05b9172fd",
   "metadata": {},
   "outputs": [
    {
     "data": {
      "application/json": {
       "cell": {
        "!": "OSMagics",
        "HTML": "Other",
        "SVG": "Other",
        "bash": "Other",
        "capture": "ExecutionMagics",
        "cmd": "Other",
        "code_wrap": "ExecutionMagics",
        "debug": "ExecutionMagics",
        "file": "Other",
        "html": "DisplayMagics",
        "javascript": "DisplayMagics",
        "js": "DisplayMagics",
        "latex": "DisplayMagics",
        "markdown": "DisplayMagics",
        "perl": "Other",
        "prun": "ExecutionMagics",
        "pypy": "Other",
        "python": "Other",
        "python2": "Other",
        "python3": "Other",
        "ruby": "Other",
        "script": "ScriptMagics",
        "sh": "Other",
        "svg": "DisplayMagics",
        "sx": "OSMagics",
        "system": "OSMagics",
        "time": "ExecutionMagics",
        "timeit": "ExecutionMagics",
        "writefile": "OSMagics"
       },
       "line": {
        "alias": "OSMagics",
        "alias_magic": "BasicMagics",
        "autoawait": "AsyncMagics",
        "autocall": "AutoMagics",
        "automagic": "AutoMagics",
        "autosave": "KernelMagics",
        "bookmark": "OSMagics",
        "cd": "OSMagics",
        "clear": "KernelMagics",
        "cls": "KernelMagics",
        "code_wrap": "ExecutionMagics",
        "colors": "BasicMagics",
        "conda": "PackagingMagics",
        "config": "ConfigMagics",
        "connect_info": "KernelMagics",
        "copy": "Other",
        "ddir": "Other",
        "debug": "ExecutionMagics",
        "dhist": "OSMagics",
        "dirs": "OSMagics",
        "doctest_mode": "BasicMagics",
        "echo": "Other",
        "ed": "Other",
        "edit": "KernelMagics",
        "env": "OSMagics",
        "gui": "BasicMagics",
        "hist": "Other",
        "history": "HistoryMagics",
        "killbgscripts": "ScriptMagics",
        "ldir": "Other",
        "less": "KernelMagics",
        "load": "CodeMagics",
        "load_ext": "ExtensionMagics",
        "loadpy": "CodeMagics",
        "logoff": "LoggingMagics",
        "logon": "LoggingMagics",
        "logstart": "LoggingMagics",
        "logstate": "LoggingMagics",
        "logstop": "LoggingMagics",
        "ls": "Other",
        "lsmagic": "BasicMagics",
        "macro": "ExecutionMagics",
        "magic": "BasicMagics",
        "mamba": "PackagingMagics",
        "matplotlib": "PylabMagics",
        "micromamba": "PackagingMagics",
        "mkdir": "Other",
        "more": "KernelMagics",
        "notebook": "BasicMagics",
        "page": "BasicMagics",
        "pastebin": "CodeMagics",
        "pdb": "ExecutionMagics",
        "pdef": "NamespaceMagics",
        "pdoc": "NamespaceMagics",
        "pfile": "NamespaceMagics",
        "pinfo": "NamespaceMagics",
        "pinfo2": "NamespaceMagics",
        "pip": "PackagingMagics",
        "popd": "OSMagics",
        "pprint": "BasicMagics",
        "precision": "BasicMagics",
        "prun": "ExecutionMagics",
        "psearch": "NamespaceMagics",
        "psource": "NamespaceMagics",
        "pushd": "OSMagics",
        "pwd": "OSMagics",
        "pycat": "OSMagics",
        "pylab": "PylabMagics",
        "qtconsole": "KernelMagics",
        "quickref": "BasicMagics",
        "recall": "HistoryMagics",
        "rehashx": "OSMagics",
        "reload_ext": "ExtensionMagics",
        "ren": "Other",
        "rep": "Other",
        "rerun": "HistoryMagics",
        "reset": "NamespaceMagics",
        "reset_selective": "NamespaceMagics",
        "rmdir": "Other",
        "run": "ExecutionMagics",
        "save": "CodeMagics",
        "sc": "OSMagics",
        "set_env": "OSMagics",
        "store": "StoreMagics",
        "sx": "OSMagics",
        "system": "OSMagics",
        "tb": "ExecutionMagics",
        "time": "ExecutionMagics",
        "timeit": "ExecutionMagics",
        "unalias": "OSMagics",
        "unload_ext": "ExtensionMagics",
        "who": "NamespaceMagics",
        "who_ls": "NamespaceMagics",
        "whos": "NamespaceMagics",
        "xdel": "NamespaceMagics",
        "xmode": "BasicMagics"
       }
      },
      "text/plain": [
       "Available line magics:\n",
       "%alias  %alias_magic  %autoawait  %autocall  %automagic  %autosave  %bookmark  %cd  %clear  %cls  %code_wrap  %colors  %conda  %config  %connect_info  %copy  %ddir  %debug  %dhist  %dirs  %doctest_mode  %echo  %ed  %edit  %env  %gui  %hist  %history  %killbgscripts  %ldir  %less  %load  %load_ext  %loadpy  %logoff  %logon  %logstart  %logstate  %logstop  %ls  %lsmagic  %macro  %magic  %mamba  %matplotlib  %micromamba  %mkdir  %more  %notebook  %page  %pastebin  %pdb  %pdef  %pdoc  %pfile  %pinfo  %pinfo2  %pip  %popd  %pprint  %precision  %prun  %psearch  %psource  %pushd  %pwd  %pycat  %pylab  %qtconsole  %quickref  %recall  %rehashx  %reload_ext  %ren  %rep  %rerun  %reset  %reset_selective  %rmdir  %run  %save  %sc  %set_env  %store  %sx  %system  %tb  %time  %timeit  %unalias  %unload_ext  %who  %who_ls  %whos  %xdel  %xmode\n",
       "\n",
       "Available cell magics:\n",
       "%%!  %%HTML  %%SVG  %%bash  %%capture  %%cmd  %%code_wrap  %%debug  %%file  %%html  %%javascript  %%js  %%latex  %%markdown  %%perl  %%prun  %%pypy  %%python  %%python2  %%python3  %%ruby  %%script  %%sh  %%svg  %%sx  %%system  %%time  %%timeit  %%writefile\n",
       "\n",
       "Automagic is ON, % prefix IS NOT needed for line magics."
      ]
     },
     "execution_count": 3,
     "metadata": {},
     "output_type": "execute_result"
    }
   ],
   "source": [
    "%lsmagic"
   ]
  },
  {
   "cell_type": "markdown",
   "id": "1e750c3f-7397-4db0-b9e8-819d701e506a",
   "metadata": {},
   "source": [
    "## Cell Magic Commands"
   ]
  },
  {
   "cell_type": "markdown",
   "id": "1450b95e-c34f-4630-a015-3aa6c3f183ec",
   "metadata": {},
   "source": [
    "# Scalable vector graphics"
   ]
  },
  {
   "cell_type": "code",
   "execution_count": 6,
   "id": "58d0d747-598d-4f52-a8a1-c745cdec4c09",
   "metadata": {},
   "outputs": [
    {
     "data": {
      "image/svg+xml": [
       "<svg width=\"100\" height=\"100\">\n",
       "    <circle cx=\"50\" cy=\"50\" r=\"40\" stroke=\"blue\" stroke-width=\"4\" fill=\"brown\"/>\n",
       "</svg>"
      ],
      "text/plain": [
       "<IPython.core.display.SVG object>"
      ]
     },
     "metadata": {},
     "output_type": "display_data"
    }
   ],
   "source": [
    "%%SVG\n",
    "\n",
    "<svg width=\"100\" height=\"100\">\n",
    "    <circle cx=\"50\" cy=\"50\" r=\"40\" stroke=\"blue\" stroke-width=\"4\" fill=\"brown\" />\n",
    "</svg>"
   ]
  },
  {
   "cell_type": "markdown",
   "id": "cd54de64-3475-49a8-9044-c1a1e6d54565",
   "metadata": {},
   "source": [
    "# Write the contents of the cell to a file"
   ]
  },
  {
   "cell_type": "code",
   "execution_count": null,
   "id": "12449e15-6774-4a50-979e-fdbb77561498",
   "metadata": {},
   "outputs": [],
   "source": [
    "%%writefile filename\n",
    "\n",
    "e.g \n",
    "%%writefile main.py"
   ]
  },
  {
   "cell_type": "code",
   "execution_count": null,
   "id": "0933630d-7a43-41ae-8520-bd0530281d85",
   "metadata": {},
   "outputs": [],
   "source": [
    "%%file filename\n",
    "\n",
    "does the same thing as writefile"
   ]
  },
  {
   "cell_type": "markdown",
   "id": "522590a0-2b67-4e38-899a-3675162c961e",
   "metadata": {},
   "source": [
    "# Render the cell as a block of html"
   ]
  },
  {
   "cell_type": "code",
   "execution_count": null,
   "id": "75d779f8-642a-4410-8d2c-d1a04ed094e5",
   "metadata": {},
   "outputs": [],
   "source": [
    "%%html\n",
    "\n",
    "Allows us to write html code within our jupyter notebooks"
   ]
  },
  {
   "cell_type": "markdown",
   "id": "c0f7fbfe-c3ef-4f58-924e-db2ff1bf073f",
   "metadata": {},
   "source": [
    "# Run the cell block of javascript code"
   ]
  },
  {
   "cell_type": "code",
   "execution_count": null,
   "id": "851142eb-07e7-4a76-b350-127964b0793f",
   "metadata": {},
   "outputs": [],
   "source": [
    "%%javascript or %%js\n",
    "\n",
    "Allows us to run javascript code within our notebooks"
   ]
  },
  {
   "cell_type": "code",
   "execution_count": 3,
   "id": "d210900c-996a-43be-a17a-3bd2ed2e2913",
   "metadata": {},
   "outputs": [
    {
     "data": {
      "application/javascript": [
       "\n",
       "alert(\"Hello! This is a test alert box\")\n"
      ],
      "text/plain": [
       "<IPython.core.display.Javascript object>"
      ]
     },
     "metadata": {},
     "output_type": "display_data"
    }
   ],
   "source": [
    "%%javascript\n",
    "\n",
    "alert(\"Hello! This is a test alert box\")"
   ]
  },
  {
   "cell_type": "markdown",
   "id": "1b76267c-c246-4b5d-bbe4-1b6128c33b14",
   "metadata": {},
   "source": [
    "# Render the cell as a block of latext"
   ]
  },
  {
   "cell_type": "code",
   "execution_count": 7,
   "id": "d96d314b-128e-4bd7-9cc1-67bd8db36096",
   "metadata": {},
   "outputs": [
    {
     "data": {
      "text/latex": [
       "\n",
       "formula for linear regression is:\n",
       "\\begin{equation}\n",
       "y = mx + c\n",
       "\\end{equation}\n"
      ],
      "text/plain": [
       "<IPython.core.display.Latex object>"
      ]
     },
     "metadata": {},
     "output_type": "display_data"
    }
   ],
   "source": [
    "%%latex\n",
    "\n",
    "formula for linear regression is:\n",
    "\\begin{equation}\n",
    "y = mx + c\n",
    "\\end{equation}"
   ]
  },
  {
   "cell_type": "markdown",
   "id": "f5b2a79b-baa6-4eef-9c5e-ba8f11c68420",
   "metadata": {},
   "source": [
    "# Run a statement throught the python code profiler"
   ]
  },
  {
   "cell_type": "code",
   "execution_count": null,
   "id": "95d4b5c4-298b-4eaa-a707-c304c69c4e38",
   "metadata": {},
   "outputs": [],
   "source": [
    "%%prun\n",
    "\n",
    "Gives you a breakdown of how much time it takes to run the block of code"
   ]
  },
  {
   "cell_type": "markdown",
   "id": "8f9f2c8f-26a1-41c3-a343-1fcf91027988",
   "metadata": {},
   "source": [
    "# Running system commands"
   ]
  },
  {
   "cell_type": "code",
   "execution_count": null,
   "id": "5be88be1-901c-4fe5-bdf1-372fe28f37c3",
   "metadata": {},
   "outputs": [],
   "source": [
    "%%system\n",
    "e.g dir, date, time"
   ]
  },
  {
   "cell_type": "markdown",
   "id": "e9ec907c-7bd5-46b0-95a9-9b4705bda713",
   "metadata": {},
   "source": [
    "# Time execution of a python statement or expression"
   ]
  },
  {
   "cell_type": "code",
   "execution_count": null,
   "id": "4461b76e-2ab4-41d6-a920-655220b6b402",
   "metadata": {},
   "outputs": [],
   "source": [
    "%timeit - will run a couple of times and give you the average time it takes to run the cell\n",
    "%%time - will give you the time it takes to run the cell at that time"
   ]
  },
  {
   "cell_type": "markdown",
   "id": "fc9fe94f-00f3-4c7d-bed0-62f70d805094",
   "metadata": {},
   "source": [
    "# Run the cell with cmd in a subprocess"
   ]
  },
  {
   "cell_type": "code",
   "execution_count": null,
   "id": "67ac9155-7cd1-4fb8-8c41-52c95b6e2975",
   "metadata": {},
   "outputs": [],
   "source": [
    "%%cmd"
   ]
  }
 ],
 "metadata": {
  "kernelspec": {
   "display_name": "Python [conda env:base] *",
   "language": "python",
   "name": "conda-base-py"
  },
  "language_info": {
   "codemirror_mode": {
    "name": "ipython",
    "version": 3
   },
   "file_extension": ".py",
   "mimetype": "text/x-python",
   "name": "python",
   "nbconvert_exporter": "python",
   "pygments_lexer": "ipython3",
   "version": "3.12.7"
  }
 },
 "nbformat": 4,
 "nbformat_minor": 5
}
