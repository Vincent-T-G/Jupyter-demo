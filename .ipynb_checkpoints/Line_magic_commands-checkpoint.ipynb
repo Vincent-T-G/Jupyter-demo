{
 "cells": [
  {
   "cell_type": "markdown",
   "id": "924f1e6a-0bd2-4deb-8478-3a8c3c315fb0",
   "metadata": {},
   "source": [
    "# LINE MAGIC COMMANDS"
   ]
  },
  {
   "cell_type": "markdown",
   "id": "41ff31d6-2d93-4c95-9145-b6886a6ca61c",
   "metadata": {},
   "source": [
    "### List all environment variables"
   ]
  },
  {
   "cell_type": "code",
   "execution_count": 6,
   "id": "9476a797-4340-480e-8fd4-22fa4779b918",
   "metadata": {},
   "outputs": [
    {
     "data": {
      "text/plain": [
       "{'ACLOCAL_PATH': 'C:\\\\Program Files\\\\Git\\\\mingw64\\\\share\\\\aclocal;C:\\\\Program Files\\\\Git\\\\usr\\\\share\\\\aclocal',\n",
       " 'ALLUSERSPROFILE': 'C:\\\\ProgramData',\n",
       " 'APPDATA': 'C:\\\\Users\\\\DELL\\\\AppData\\\\Roaming',\n",
       " 'CHOCOLATEYINSTALL': 'C:\\\\ProgramData\\\\chocolatey',\n",
       " 'CHOCOLATEYLASTPATHUPDATE': '133553682492087140',\n",
       " 'COLORTERM': 'truecolor',\n",
       " 'COMMONPROGRAMFILES': 'C:\\\\Program Files\\\\Common Files',\n",
       " 'COMMONPROGRAMFILES(X86)': 'C:\\\\Program Files (x86)\\\\Common Files',\n",
       " 'COMMONPROGRAMW6432': 'C:\\\\Program Files\\\\Common Files',\n",
       " 'COMPUTERNAME': 'VERSACES-LAPTOP',\n",
       " 'COMSPEC': 'C:\\\\WINDOWS\\\\system32\\\\cmd.exe',\n",
       " 'CONDA_DEFAULT_ENV': 'base',\n",
       " 'CONDA_EXE': 'C:/Users/DELL/anaconda3/Scripts/conda.exe',\n",
       " 'CONDA_PREFIX': 'C:\\\\Users\\\\DELL\\\\anaconda3',\n",
       " 'CONDA_PROMPT_MODIFIER': '(base) ',\n",
       " 'CONDA_PYTHON_EXE': 'C:/Users/DELL/anaconda3/python.exe',\n",
       " 'CONDA_SHLVL': '1',\n",
       " 'CONFIG_SITE': 'C:/Program Files/Git/etc/config.site',\n",
       " 'DISPLAY': 'needs-to-be-defined',\n",
       " 'DRIVERDATA': 'C:\\\\Windows\\\\System32\\\\Drivers\\\\DriverData',\n",
       " 'EFC_8500_1262719628': '1',\n",
       " 'EFC_8500_1592913036': '1',\n",
       " 'EFC_8500_2775293581': '1',\n",
       " 'EFC_8500_3789132940': '1',\n",
       " 'EXEPATH': 'C:\\\\Program Files\\\\Git',\n",
       " 'FPS_BROWSER_APP_PROFILE_STRING': 'Internet Explorer',\n",
       " 'FPS_BROWSER_USER_PROFILE_STRING': 'Default',\n",
       " 'HOME': 'C:\\\\Users\\\\DELL',\n",
       " 'HOMEDRIVE': 'C:',\n",
       " 'HOMEPATH': '\\\\Users\\\\DELL',\n",
       " 'HOSTNAME': 'versaces-laptop',\n",
       " 'IGCCSVC_DB': 'AQAAANCMnd8BFdERjHoAwE/Cl+sBAAAAWwFEeFrELkWaDNBwqqXRZQQAAAACAAAAAAAQZgAAAAEAACAAAADBQyW6LwZPK/Lra4LruJP4bA09Xzz4RLKo2OK01uAORQAAAAAOgAAAAAIAACAAAACIM/36abSWzAArvhnAabLGUOudleGqOUCbbCDMo1P7xGAAAAArVyyZmG1RAraaPxNwTfBo+5F+6kV5UnIMDf3Mlt6gI5u5J+0hNjGru2+y1XCDtRfQKHSmg9jKL41RYPDuFlPK2qHYVXTNbgeYg81Zst2O2XeHcKW+oN1KqmB2fEh8NUFAAAAAMpxSEvRB/r05s5toCj+qrrNzjsHMSFJ3E1c/dZRNGOPbuASQJYZ1d1GuD9Irp2+m8L6Z7jaeAEHeKois1KYXNA==',\n",
       " 'INFOPATH': 'C:\\\\Program Files\\\\Git\\\\mingw64\\\\local\\\\info;C:\\\\Program Files\\\\Git\\\\mingw64\\\\share\\\\info;C:\\\\Program Files\\\\Git\\\\usr\\\\local\\\\info;C:\\\\Program Files\\\\Git\\\\usr\\\\share\\\\info;C:\\\\Program Files\\\\Git\\\\usr\\\\info;C:\\\\Program Files\\\\Git\\\\share\\\\info',\n",
       " 'IPY_INTERRUPT_EVENT': '3884',\n",
       " 'JPY_INTERRUPT_EVENT': '3884',\n",
       " 'JPY_PARENT_PID': '3520',\n",
       " 'JPY_SESSION_NAME': 'C:\\\\users\\\\dell\\\\desktop\\\\Jupyter demo\\\\Untitled1.ipynb',\n",
       " 'LANG': 'en_US.UTF-8',\n",
       " 'LOCALAPPDATA': 'C:\\\\Users\\\\DELL\\\\AppData\\\\Local',\n",
       " 'LOGONSERVER': '\\\\\\\\VERSACES-LAPTOP',\n",
       " 'MANPATH': 'C:\\\\Program Files\\\\Git\\\\mingw64\\\\local\\\\man;C:\\\\Program Files\\\\Git\\\\mingw64\\\\share\\\\man;C:\\\\Program Files\\\\Git\\\\usr\\\\local\\\\man;C:\\\\Program Files\\\\Git\\\\usr\\\\share\\\\man;C:\\\\Program Files\\\\Git\\\\usr\\\\man;C:\\\\Program Files\\\\Git\\\\share\\\\man',\n",
       " 'MINGW_CHOST': 'x86_64-w64-mingw32',\n",
       " 'MINGW_PACKAGE_PREFIX': 'mingw-w64-x86_64',\n",
       " 'MINGW_PREFIX': 'C:/Program Files/Git/mingw64',\n",
       " 'MSYSTEM': 'MINGW64',\n",
       " 'MSYSTEM_CARCH': 'x86_64',\n",
       " 'MSYSTEM_CHOST': 'x86_64-w64-mingw32',\n",
       " 'MSYSTEM_PREFIX': 'C:/Program Files/Git/mingw64',\n",
       " 'NUMBER_OF_PROCESSORS': '8',\n",
       " 'OLDPWD': 'C:/users/dell/desktop',\n",
       " 'ONEDRIVE': 'C:\\\\Users\\\\DELL\\\\OneDrive',\n",
       " 'ONEDRIVECONSUMER': 'C:\\\\Users\\\\DELL\\\\OneDrive',\n",
       " 'ORIGINAL_PATH': 'C:\\\\Program Files\\\\Git\\\\cmd;C:\\\\Program Files\\\\Python313\\\\Scripts;C:\\\\Program Files\\\\Python313;C:\\\\Program Files\\\\Microsoft\\\\jdk-11.0.12.7-hotspot\\\\bin;C:\\\\WINDOWS\\\\system32;C:\\\\WINDOWS;C:\\\\WINDOWS\\\\System32\\\\Wbem;C:\\\\WINDOWS\\\\System32\\\\WindowsPowerShell\\\\v1.0;C:\\\\WINDOWS\\\\System32\\\\OpenSSH;C:\\\\Program Files\\\\Microsoft SQL Server\\\\150\\\\Tools\\\\Binn;C:\\\\Program Files\\\\Microsoft SQL Server\\\\Client SDK\\\\ODBC\\\\170\\\\Tools\\\\Binn;C:\\\\Program Files\\\\MATLAB\\\\R2022b\\\\bin;C:\\\\Program Files\\\\PuTTY;C:\\\\Program Files\\\\dotnet;C:\\\\Program Files\\\\nodejs;C:\\\\ProgramData\\\\chocolatey\\\\bin;C:\\\\Users\\\\DELL\\\\Downloads\\\\php-8.4.24;C:\\\\Program Files\\\\Git\\\\cmd;C:\\\\Users\\\\DELL\\\\.console-ninja\\\\.bin;C:\\\\Program Files\\\\MySQL\\\\MySQL Shell 8.0\\\\bin;C:\\\\Users\\\\DELL\\\\AppData\\\\Local\\\\Microsoft\\\\WindowsApps;C:\\\\Users\\\\DELL\\\\AppData\\\\Local\\\\Programs\\\\Microsoft VS Code\\\\bin;C:\\\\Program Files\\\\JetBrains\\\\PyCharm Community Edition 2021.1.2\\\\bin;C:\\\\MinGW\\\\bin;C:\\\\Users\\\\DELL\\\\AppData\\\\Roaming\\\\npm;C:\\\\Users\\\\DELL\\\\AppData\\\\Local\\\\Programs\\\\Hyper\\\\resources\\\\bin;C:\\\\Users\\\\DELL\\\\AppData\\\\Roaming\\\\Python\\\\Python313\\\\Scripts;C:\\\\Program Files\\\\Python313;C:\\\\Users\\\\DELL\\\\anaconda3;C:\\\\Users\\\\DELL\\\\anaconda3\\\\Scripts',\n",
       " 'ORIGINAL_TEMP': 'C:/Users/DELL/AppData/Local/Temp',\n",
       " 'ORIGINAL_TMP': 'C:/Users/DELL/AppData/Local/Temp',\n",
       " 'ORIGINAL_XDG_CURRENT_DESKTOP': 'undefined',\n",
       " 'OS': 'Windows_NT',\n",
       " 'PATH': 'C:\\\\Users\\\\DELL\\\\anaconda3;C:\\\\Users\\\\DELL\\\\anaconda3\\\\Library\\\\mingw-w64\\\\bin;C:\\\\Users\\\\DELL\\\\anaconda3\\\\Library\\\\usr\\\\bin;C:\\\\Users\\\\DELL\\\\anaconda3\\\\Library\\\\bin;C:\\\\Users\\\\DELL\\\\anaconda3\\\\Scripts;C:\\\\Users\\\\DELL\\\\anaconda3\\\\bin;C:\\\\Users\\\\DELL\\\\anaconda3\\\\condabin;C:\\\\Users\\\\DELL\\\\bin;C:\\\\Program Files\\\\Git\\\\mingw64\\\\bin;C:\\\\Program Files\\\\Git\\\\usr\\\\local\\\\bin;C:\\\\Program Files\\\\Git\\\\usr\\\\bin;C:\\\\Program Files\\\\Git\\\\usr\\\\bin;C:\\\\Program Files\\\\Git\\\\cmd;C:\\\\Program Files\\\\Python313\\\\Scripts;C:\\\\Program Files\\\\Python313;C:\\\\Program Files\\\\Microsoft\\\\jdk-11.0.12.7-hotspot\\\\bin;C:\\\\WINDOWS\\\\system32;C:\\\\WINDOWS;C:\\\\WINDOWS\\\\System32\\\\Wbem;C:\\\\WINDOWS\\\\System32\\\\WindowsPowerShell\\\\v1.0;C:\\\\WINDOWS\\\\System32\\\\OpenSSH;C:\\\\Program Files\\\\Microsoft SQL Server\\\\150\\\\Tools\\\\Binn;C:\\\\Program Files\\\\Microsoft SQL Server\\\\Client SDK\\\\ODBC\\\\170\\\\Tools\\\\Binn;C:\\\\Program Files\\\\MATLAB\\\\R2022b\\\\bin;C:\\\\Program Files\\\\PuTTY;C:\\\\Program Files\\\\dotnet;C:\\\\Program Files\\\\nodejs;C:\\\\ProgramData\\\\chocolatey\\\\bin;C:\\\\Users\\\\DELL\\\\Downloads\\\\php-8.4.24;C:\\\\Program Files\\\\Git\\\\cmd;C:\\\\Users\\\\DELL\\\\.console-ninja\\\\.bin;C:\\\\Program Files\\\\MySQL\\\\MySQL Shell 8.0\\\\bin;C:\\\\Users\\\\DELL\\\\AppData\\\\Local\\\\Microsoft\\\\WindowsApps;C:\\\\Users\\\\DELL\\\\AppData\\\\Local\\\\Programs\\\\Microsoft VS Code\\\\bin;C:\\\\Program Files\\\\JetBrains\\\\PyCharm Community Edition 2021.1.2\\\\bin;C:\\\\MinGW\\\\bin;C:\\\\Users\\\\DELL\\\\AppData\\\\Roaming\\\\npm;C:\\\\Users\\\\DELL\\\\AppData\\\\Local\\\\Programs\\\\Hyper\\\\resources\\\\bin;C:\\\\Users\\\\DELL\\\\AppData\\\\Roaming\\\\Python\\\\Python313\\\\Scripts;C:\\\\Program Files\\\\Python313;C:\\\\Users\\\\DELL\\\\anaconda3;C:\\\\Users\\\\DELL\\\\anaconda3\\\\Scripts;C:\\\\Program Files\\\\Git\\\\usr\\\\bin\\\\vendor_perl;C:\\\\Program Files\\\\Git\\\\usr\\\\bin\\\\core_perl',\n",
       " 'PATHEXT': '.COM;.EXE;.BAT;.CMD;.VBS;.VBE;.JS;.JSE;.WSF;.WSH;.MSC;.PY;.PYW',\n",
       " 'PKG_CONFIG_PATH': 'C:\\\\Program Files\\\\Git\\\\mingw64\\\\lib\\\\pkgconfig;C:\\\\Program Files\\\\Git\\\\mingw64\\\\share\\\\pkgconfig',\n",
       " 'PKG_CONFIG_SYSTEM_INCLUDE_PATH': 'C:/Program Files/Git/mingw64/include',\n",
       " 'PKG_CONFIG_SYSTEM_LIBRARY_PATH': 'C:/Program Files/Git/mingw64/lib',\n",
       " 'PLINK_PROTOCOL': 'ssh',\n",
       " 'PROCESSOR_ARCHITECTURE': 'AMD64',\n",
       " 'PROCESSOR_IDENTIFIER': 'Intel64 Family 6 Model 140 Stepping 1, GenuineIntel',\n",
       " 'PROCESSOR_LEVEL': '6',\n",
       " 'PROCESSOR_REVISION': '8c01',\n",
       " 'PROGRAMDATA': 'C:\\\\ProgramData',\n",
       " 'PROGRAMFILES': 'C:\\\\Program Files',\n",
       " 'PROGRAMFILES(X86)': 'C:\\\\Program Files (x86)',\n",
       " 'PROGRAMW6432': 'C:\\\\Program Files',\n",
       " 'PS1': '(base) \\\\[\\\\033]0;$TITLEPREFIX:$PWD\\\\007\\\\]\\\\n\\\\[\\\\033[32m\\\\]\\\\u@\\\\h \\\\[\\\\033[35m\\\\]$MSYSTEM \\\\[\\\\033[33m\\\\]\\\\w\\\\[\\\\033[36m\\\\]`__git_ps1`\\\\[\\\\033[0m\\\\]\\\\n$ ',\n",
       " 'PSMODULEPATH': 'C:\\\\Program Files\\\\WindowsPowerShell\\\\Modules;C:\\\\WINDOWS\\\\system32\\\\WindowsPowerShell\\\\v1.0\\\\Modules',\n",
       " 'PUBLIC': 'C:\\\\Users\\\\Public',\n",
       " 'PWD': 'C:/users/dell/desktop/Jupyter demo',\n",
       " 'PYCHARM COMMUNITY EDITION': 'C:\\\\Program Files\\\\JetBrains\\\\PyCharm Community Edition 2021.1.2\\\\bin;',\n",
       " 'SESSIONNAME': 'Console',\n",
       " 'SHELL': 'C:\\\\Program Files\\\\Git\\\\usr\\\\bin\\\\bash.exe',\n",
       " 'SHLVL': '1',\n",
       " 'SSH_ASKPASS': 'C:/Program Files/Git/mingw64/bin/git-askpass.exe',\n",
       " 'SSL_CERT_FILE': 'C:\\\\Users\\\\DELL\\\\anaconda3\\\\Library\\\\ssl\\\\cacert.pem',\n",
       " 'SUBPROCESS_BAGGAGE': 'sentry-trace_id=96c1b5e363894d12b9c327479c807197,sentry-environment=local_production,sentry-release=4.1.0,sentry-public_key=f175bff95ca4ae57c532f2bf67cbaa63',\n",
       " 'SUBPROCESS_SENTRY_TRACE': '96c1b5e363894d12b9c327479c807197-97165fe494f776a7',\n",
       " 'SYSTEMDRIVE': 'C:',\n",
       " 'SYSTEMROOT': 'C:\\\\WINDOWS',\n",
       " 'TEMP': 'C:\\\\Users\\\\DELL\\\\AppData\\\\Local\\\\Temp',\n",
       " 'TERM': 'xterm-color',\n",
       " 'TERM_PROGRAM': 'Hyper',\n",
       " 'TERM_PROGRAM_VERSION': '3.4.1',\n",
       " 'TMP': 'C:\\\\Users\\\\DELL\\\\AppData\\\\Local\\\\Temp',\n",
       " 'TMPDIR': 'C:\\\\Users\\\\DELL\\\\AppData\\\\Local\\\\Temp',\n",
       " 'USERDOMAIN': 'VERSACES-LAPTOP',\n",
       " 'USERDOMAIN_ROAMINGPROFILE': 'VERSACES-LAPTOP',\n",
       " 'USERNAME': 'DELL',\n",
       " 'USERPROFILE': 'C:\\\\Users\\\\DELL',\n",
       " 'WINDIR': 'C:\\\\WINDOWS',\n",
       " 'ZES_ENABLE_SYSMAN': '1',\n",
       " '_': 'C:/Users/DELL/anaconda3/Scripts/jupyter',\n",
       " '_CE_CONDA': '',\n",
       " '_CE_M': '',\n",
       " '__CONDA_OPENSLL_CERT_FILE_SET': '1',\n",
       " 'PYDEVD_USE_FRAME_EVAL': 'NO',\n",
       " 'CLICOLOR': '1',\n",
       " 'FORCE_COLOR': '1',\n",
       " 'CLICOLOR_FORCE': '1',\n",
       " 'PAGER': 'cat',\n",
       " 'GIT_PAGER': 'cat',\n",
       " 'MPLBACKEND': 'module://matplotlib_inline.backend_inline'}"
      ]
     },
     "execution_count": 6,
     "metadata": {},
     "output_type": "execute_result"
    }
   ],
   "source": [
    "%env"
   ]
  },
  {
   "cell_type": "markdown",
   "id": "c6eed0b3-d909-42fb-bc18-0f141aa7c8ab",
   "metadata": {},
   "source": [
    "### Execute python code"
   ]
  },
  {
   "cell_type": "raw",
   "id": "36cf7f71-311b-4a9f-bb30-3137d50366a5",
   "metadata": {},
   "source": [
    "%run \"filename.py\" - to run an external python file"
   ]
  },
  {
   "cell_type": "code",
   "execution_count": null,
   "id": "233f61ab-184d-4d4c-9f86-40e8cd3dfe70",
   "metadata": {},
   "outputs": [],
   "source": [
    "%run ./\"filename.ipynb\" - to run an external ipynb file"
   ]
  },
  {
   "cell_type": "markdown",
   "id": "ab2399f1-ccab-46c0-bfd5-6bd76cf0ccfc",
   "metadata": {},
   "source": [
    "### Load code from an external script"
   ]
  },
  {
   "cell_type": "code",
   "execution_count": null,
   "id": "f550cbde-2645-436c-b87d-e728b67b1e00",
   "metadata": {},
   "outputs": [],
   "source": [
    "%load \"filename\" - to load an external python file... will comment the command and load the contents of the file in the same cell"
   ]
  },
  {
   "cell_type": "markdown",
   "id": "a1499d56-6305-4552-b5ab-bb1aaf40239a",
   "metadata": {},
   "source": [
    "### Pass variables between different notebooks"
   ]
  },
  {
   "cell_type": "code",
   "execution_count": null,
   "id": "348a32f5-dc2a-4aec-b06e-740c498e8855",
   "metadata": {},
   "outputs": [],
   "source": [
    "%store \"variable_name\"  - stores the variable so that it can be passed to another notebook\n",
    "%store -r \"variable_name\" - retrieves a stored variable so that you can use it in another notebook"
   ]
  },
  {
   "cell_type": "markdown",
   "id": "1663bbb9-d1d3-4e72-8e28-be80f7028862",
   "metadata": {},
   "source": [
    "### Displaying image inside notebook"
   ]
  },
  {
   "cell_type": "code",
   "execution_count": null,
   "id": "c7f1cb2c-63a7-404f-814f-e7e635aeab83",
   "metadata": {},
   "outputs": [],
   "source": [
    "%matplotlib inline \n",
    "import matplotlib.pyplot as plt"
   ]
  },
  {
   "cell_type": "code",
   "execution_count": null,
   "id": "823c3428-b311-4f21-b6f8-ae7426b088c1",
   "metadata": {},
   "outputs": [],
   "source": [
    "import cv2\n",
    "image= cv2.imread(image path)"
   ]
  },
  {
   "cell_type": "code",
   "execution_count": null,
   "id": "4a1a5d08-8017-41d8-98a7-f351c6ece9e1",
   "metadata": {},
   "outputs": [],
   "source": [
    "plt.imshow(image)"
   ]
  },
  {
   "cell_type": "markdown",
   "id": "1de9bcd8-f8a0-40b6-a35c-0dadd19f9d51",
   "metadata": {},
   "source": [
    "### list all variables with a global scope"
   ]
  },
  {
   "cell_type": "code",
   "execution_count": 13,
   "id": "c5c0f810-10c3-4702-835a-850164fe09b6",
   "metadata": {},
   "outputs": [
    {
     "name": "stdout",
     "output_type": "stream",
     "text": [
      "dataframe_columns\t dataframe_hash\t dtypes_str\t get_dataframes\t getpass\t hashlib\t import_pandas_safely\t is_data_frame\t json\t \n",
      "\n"
     ]
    }
   ],
   "source": [
    "%who"
   ]
  },
  {
   "cell_type": "code",
   "execution_count": null,
   "id": "a0713793-212b-4901-a532-5d45e21467ea",
   "metadata": {},
   "outputs": [],
   "source": [
    "%who \"type\" if you want the global variables of a particular type like str"
   ]
  },
  {
   "cell_type": "markdown",
   "id": "9061e758-7af5-4e29-b4c6-f8be1228b774",
   "metadata": {},
   "source": [
    "### Show how much time your program took to execute each function"
   ]
  },
  {
   "cell_type": "code",
   "execution_count": null,
   "id": "83f1426e-197e-4347-8a59-2ba5253ce9a5",
   "metadata": {},
   "outputs": [],
   "source": [
    "%prun \"function()\""
   ]
  },
  {
   "cell_type": "markdown",
   "id": "45fe665c-95ee-4ddb-a669-0b5e3c6ba71c",
   "metadata": {},
   "source": [
    "### To show the contents of an external file"
   ]
  },
  {
   "cell_type": "code",
   "execution_count": null,
   "id": "60d054b7-17eb-4d52-858e-d4ab418de824",
   "metadata": {},
   "outputs": [],
   "source": [
    "%pycat \"filename\""
   ]
  },
  {
   "cell_type": "markdown",
   "id": "622d61f7-1074-4804-8e16-0f6d977e8fc1",
   "metadata": {},
   "source": [
    "### Define the alias for a system command"
   ]
  },
  {
   "cell_type": "code",
   "execution_count": null,
   "id": "18739bec-98fd-4a6d-b64d-0b5824609823",
   "metadata": {},
   "outputs": [],
   "source": [
    "%alias \"The name you want to give it\" \"The command\""
   ]
  },
  {
   "cell_type": "markdown",
   "id": "cdae88fd-efbf-4df2-b9bb-b4d557b5fddb",
   "metadata": {},
   "source": [
    "### Create an alias for an existing line or cell magic"
   ]
  },
  {
   "cell_type": "code",
   "execution_count": null,
   "id": "ecf9cc79-ea06-4ca4-99af-eb46f453af75",
   "metadata": {},
   "outputs": [],
   "source": [
    "%alias_magic \"The name you want to give it\" \"The magic command\"\n",
    "\n",
    "%%\"Alias you gave\" - to run the magic command"
   ]
  },
  {
   "cell_type": "markdown",
   "id": "57ef28ab-37d7-451a-8e92-da6fd156846e",
   "metadata": {},
   "source": [
    "### Make magic functions callable without having to type the initial %"
   ]
  },
  {
   "cell_type": "code",
   "execution_count": 20,
   "id": "675bf6e0-04cb-4be1-bcfa-e69f26d6f227",
   "metadata": {},
   "outputs": [
    {
     "name": "stdout",
     "output_type": "stream",
     "text": [
      "\n",
      "Automagic is ON, % prefix IS NOT needed for line magics.\n"
     ]
    }
   ],
   "source": [
    "%automagic 1"
   ]
  },
  {
   "cell_type": "markdown",
   "id": "d55338e5-beab-4acc-8ba2-fd71107fa3c1",
   "metadata": {},
   "source": [
    "### Set the autosave interval for the notebook in seconds"
   ]
  },
  {
   "cell_type": "code",
   "execution_count": null,
   "id": "c9a61f2e-5a33-4899-ab73-162965dbc381",
   "metadata": {},
   "outputs": [],
   "source": [
    "%autosave \"time\"\n",
    "\n",
    "%autosave 60 - makes the notebook autosave every 60 seconds\n",
    "\n",
    "the default autosave time is 120s\n",
    "\n",
    "%autosave 0 - disables autosave"
   ]
  },
  {
   "cell_type": "markdown",
   "id": "e80f0757-e676-4b54-bdea-12ec844d785b",
   "metadata": {},
   "source": [
    "### Bookmark directory"
   ]
  },
  {
   "cell_type": "code",
   "execution_count": null,
   "id": "4092b956-6a3c-4691-b419-9eb8d143b359",
   "metadata": {},
   "outputs": [],
   "source": [
    "%bookmark \"variable_name\" - saves the current directory in a variable\n",
    "%bookmark -l - lists all the directories that have been bookmarked\n",
    "%bookmark -d \"variable_name\" - deletes the named bookmark\n",
    "%bookmark -r - removes all the bookmarks "
   ]
  },
  {
   "cell_type": "markdown",
   "id": "c48a187c-2136-4c0c-a050-2570a0e88534",
   "metadata": {},
   "source": [
    "### List the contents of the current directory"
   ]
  },
  {
   "cell_type": "code",
   "execution_count": null,
   "id": "273d7d04-dd0d-4915-97ce-172a7c30fddd",
   "metadata": {},
   "outputs": [],
   "source": [
    "%ls"
   ]
  },
  {
   "cell_type": "markdown",
   "id": "0e92a71b-4290-4ed4-b3e0-eecc6b7e82af",
   "metadata": {},
   "source": [
    "### Change the directory"
   ]
  },
  {
   "cell_type": "code",
   "execution_count": null,
   "id": "118c99c3-0c10-4f12-8c04-c84c500d9e68",
   "metadata": {},
   "outputs": [],
   "source": [
    "%cd "
   ]
  },
  {
   "cell_type": "markdown",
   "id": "4ef9b378-150b-4804-9416-b40c78d25cca",
   "metadata": {},
   "source": [
    "### Print your history of visited directories"
   ]
  },
  {
   "cell_type": "code",
   "execution_count": 27,
   "id": "fe7d1c6d-490a-493e-a6e0-c3006b76ae21",
   "metadata": {},
   "outputs": [
    {
     "name": "stdout",
     "output_type": "stream",
     "text": [
      "Directory history (kept in _dh)\n",
      "0: C:\\users\\dell\\desktop\\Jupyter demo\n"
     ]
    }
   ],
   "source": [
    "%dhist"
   ]
  },
  {
   "cell_type": "markdown",
   "id": "7a8ecf58-b8a7-4204-b760-57e83ce29875",
   "metadata": {},
   "source": [
    "### Print present working directory"
   ]
  },
  {
   "cell_type": "code",
   "execution_count": 29,
   "id": "8852197d-d6dd-472e-89e0-2a9013810cf8",
   "metadata": {},
   "outputs": [
    {
     "data": {
      "text/plain": [
       "'C:\\\\users\\\\dell\\\\desktop\\\\Jupyter demo'"
      ]
     },
     "execution_count": 29,
     "metadata": {},
     "output_type": "execute_result"
    }
   ],
   "source": [
    "%pwd"
   ]
  },
  {
   "cell_type": "markdown",
   "id": "3b1c749f-f6a3-484e-8c0d-aff19554ac00",
   "metadata": {},
   "source": [
    "### To create a new folder in the working directory"
   ]
  },
  {
   "cell_type": "code",
   "execution_count": null,
   "id": "60ab87ae-5562-4ce6-a112-1b93cc176bf3",
   "metadata": {},
   "outputs": [],
   "source": [
    "%mkdir \"filename\""
   ]
  }
 ],
 "metadata": {
  "kernelspec": {
   "display_name": "Python [conda env:base] *",
   "language": "python",
   "name": "conda-base-py"
  },
  "language_info": {
   "codemirror_mode": {
    "name": "ipython",
    "version": 3
   },
   "file_extension": ".py",
   "mimetype": "text/x-python",
   "name": "python",
   "nbconvert_exporter": "python",
   "pygments_lexer": "ipython3",
   "version": "3.12.7"
  }
 },
 "nbformat": 4,
 "nbformat_minor": 5
}
