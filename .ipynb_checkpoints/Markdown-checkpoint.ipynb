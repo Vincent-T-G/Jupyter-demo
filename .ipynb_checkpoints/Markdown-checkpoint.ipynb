{
 "cells": [
  {
   "cell_type": "markdown",
   "id": "eeb525f5-cb13-4344-bbb4-276ed1bd0bd5",
   "metadata": {},
   "source": [
    "# MARKDOWN TUTORIAL"
   ]
  },
  {
   "cell_type": "markdown",
   "id": "04e3d60f-dfea-40c6-95e8-ad0d06d2d317",
   "metadata": {},
   "source": [
    "## HEADINGS"
   ]
  },
  {
   "cell_type": "code",
   "execution_count": null,
   "id": "5d476e25-c8e4-4ddc-ae13-28137d6fb110",
   "metadata": {},
   "outputs": [],
   "source": [
    "# Heading level 1\n",
    "<h1> Heading level 1 <h1>"
   ]
  },
  {
   "cell_type": "code",
   "execution_count": null,
   "id": "367538fa-a729-46ff-a41e-ee2b8d1dcb83",
   "metadata": {},
   "outputs": [],
   "source": [
    "## Heading level 2\n",
    "<h2> Heading level 2 <h2>"
   ]
  },
  {
   "cell_type": "code",
   "execution_count": null,
   "id": "3a7b6fdf-f98a-4ec2-a67b-0f1ea71c2c78",
   "metadata": {},
   "outputs": [],
   "source": [
    "### Heading level 3\n",
    "<h3> Heading level 3 <h3>"
   ]
  },
  {
   "cell_type": "code",
   "execution_count": null,
   "id": "4f1e1ac9-1ae2-41d3-9e1a-ba4dab4f6cdd",
   "metadata": {},
   "outputs": [],
   "source": [
    "#### Heading level 4\n",
    "<h4> Heading level 4 <h4>"
   ]
  },
  {
   "cell_type": "code",
   "execution_count": null,
   "id": "0b36bdfc-0dc6-4a8f-8ece-5053f21a4d9e",
   "metadata": {},
   "outputs": [],
   "source": [
    "##### Heading level 5\n",
    "<h5> Heading level 5 <h5>"
   ]
  },
  {
   "cell_type": "code",
   "execution_count": null,
   "id": "e7173432-0abc-49bb-8523-573460b65836",
   "metadata": {},
   "outputs": [],
   "source": [
    "###### Heading level 6\n",
    "<h6> Heading level 6 <h6>"
   ]
  },
  {
   "cell_type": "code",
   "execution_count": null,
   "id": "198e3fff-de33-47d1-bc9d-b64b478c7bf8",
   "metadata": {},
   "outputs": [],
   "source": [
    "Heading level 1\n",
    "==================\n",
    "    Alternatively you can use double underline(use = operator) for H1"
   ]
  },
  {
   "cell_type": "code",
   "execution_count": null,
   "id": "9b00d5d1-8ee6-4e45-9df3-48df594d69b2",
   "metadata": {},
   "outputs": [],
   "source": [
    "Heading level 2\n",
    "------------------\n",
    "    Alternatively you can use single underline(use - operator) for H2"
   ]
  },
  {
   "cell_type": "markdown",
   "id": "70cf22da-ab73-41dc-9ddb-1dcb71b746dd",
   "metadata": {},
   "source": [
    "## Paragraphs"
   ]
  },
  {
   "cell_type": "code",
   "execution_count": null,
   "id": "929c0786-affe-4304-96e8-eac460ce8d91",
   "metadata": {},
   "outputs": [],
   "source": [
    "For paragraphs\n",
    "\n",
    "You separate them in the markdown cells using a blank line"
   ]
  },
  {
   "cell_type": "code",
   "execution_count": null,
   "id": "6efd98c1-07c3-4264-8b57-84475721e176",
   "metadata": {},
   "outputs": [],
   "source": [
    "<p> In html you can use the p tags </p>\n",
    "<p> This will separate the two paragraphs </p>"
   ]
  },
  {
   "cell_type": "markdown",
   "id": "0f178942-5186-49a8-be62-d58d82b70dac",
   "metadata": {},
   "source": [
    "## Line breaks"
   ]
  },
  {
   "cell_type": "code",
   "execution_count": null,
   "id": "1aaff673-84b0-44e9-a3e5-40249529a767",
   "metadata": {},
   "outputs": [],
   "source": [
    "For a line break you have to put two whitespaces then press enter  \n",
    "This creates a line break"
   ]
  },
  {
   "cell_type": "code",
   "execution_count": null,
   "id": "b7b2af80-93d6-4ef1-8264-b51c35bfd3fb",
   "metadata": {},
   "outputs": [],
   "source": [
    "<p> In html you change the closing tag of the paragpaph into a br tag. <br>\n",
    "<p> This creates a line break </p>"
   ]
  },
  {
   "cell_type": "markdown",
   "id": "22df971b-140e-4223-8f00-def56a97bfb7",
   "metadata": {},
   "source": [
    "## Emphasis"
   ]
  },
  {
   "cell_type": "code",
   "execution_count": null,
   "id": "f45c35c8-a8ee-45b4-b97c-b93b41d87899",
   "metadata": {},
   "outputs": [],
   "source": [
    "To bold text you put it ** between double stars **\n",
    "You can also put it __ between double underscores __"
   ]
  },
  {
   "cell_type": "code",
   "execution_count": null,
   "id": "ce863d27-977e-46cc-8945-f6e1a0ff361d",
   "metadata": {},
   "outputs": [],
   "source": [
    "In html <strong> you use the strong tag </strong>"
   ]
  },
  {
   "cell_type": "code",
   "execution_count": null,
   "id": "787c33e5-5852-4f16-b6c2-e51d585c9986",
   "metadata": {},
   "outputs": [],
   "source": [
    "To italicise text you put it * between single stars *\n",
    "You can also put it _ between single underscores _"
   ]
  },
  {
   "cell_type": "code",
   "execution_count": null,
   "id": "cc8b94a3-f476-4ca3-8d30-8151e3175cd9",
   "metadata": {},
   "outputs": [],
   "source": [
    "In html <em> you use the em tag </em>"
   ]
  },
  {
   "cell_type": "code",
   "execution_count": null,
   "id": "548786d4-6823-4046-a570-1bbc9a918229",
   "metadata": {},
   "outputs": [],
   "source": [
    "To bold and italicise at the same time you put it *** between triple stars ***\n",
    "You can also put it ___ between triple underscores ___"
   ]
  },
  {
   "cell_type": "code",
   "execution_count": null,
   "id": "2ebc1338-d30e-4582-bee3-7c82466110d8",
   "metadata": {},
   "outputs": [],
   "source": [
    "In html <strong><em> you use the strong and em tags together </em></strong>"
   ]
  },
  {
   "cell_type": "markdown",
   "id": "021f83af-c528-40a2-9e9d-fee63ce47d43",
   "metadata": {},
   "source": [
    "## Blockquotes"
   ]
  },
  {
   "cell_type": "code",
   "execution_count": null,
   "id": "82cedc1e-b8ac-44e8-ab31-a2f6cf5bb1ab",
   "metadata": {},
   "outputs": [],
   "source": [
    "> Use the greater than symbol in front of the cell"
   ]
  },
  {
   "cell_type": "markdown",
   "id": "a1aba09c-a273-4c82-a39c-2da9abdb907c",
   "metadata": {},
   "source": [
    "> Example blockquote"
   ]
  },
  {
   "cell_type": "code",
   "execution_count": null,
   "id": "c796fd37-e575-4323-9250-788872a43947",
   "metadata": {},
   "outputs": [],
   "source": [
    ">If its spans multiple paragraphs\n",
    ">\n",
    ">You add the greater than symbol on the blank line as well"
   ]
  },
  {
   "cell_type": "code",
   "execution_count": null,
   "id": "67337ce2-6a07-4395-b0da-4f01f85822b5",
   "metadata": {},
   "outputs": [],
   "source": [
    ">if you want a nested blockquote you use two GT symbols"
   ]
  },
  {
   "cell_type": "markdown",
   "id": "8d550a29-53ab-45d5-b0b7-85f2d3f93783",
   "metadata": {},
   "source": [
    ">Example\n",
    ">>Nested blockquote"
   ]
  },
  {
   "cell_type": "markdown",
   "id": "b3a29e47-0c14-4e1e-8df6-97d582932a51",
   "metadata": {},
   "source": [
    "## Lists"
   ]
  },
  {
   "cell_type": "code",
   "execution_count": null,
   "id": "7f21bd21-a7bd-464f-8fab-53a0e5b7b732",
   "metadata": {},
   "outputs": [],
   "source": [
    "To create a numbered list preceed the elements by numbers\n",
    "1. One\n",
    "2.Two"
   ]
  },
  {
   "cell_type": "markdown",
   "id": "766def37-b88f-496c-a066-2595f79ff41f",
   "metadata": {},
   "source": [
    "1. One\n",
    "2. Two\n",
    "3. Three"
   ]
  },
  {
   "cell_type": "code",
   "execution_count": null,
   "id": "62eda821-1f7c-45ff-beef-7609b14a80d2",
   "metadata": {},
   "outputs": [],
   "source": [
    "In html you have to us li elements within an ol element\n",
    "<ol>\n",
    "    <li> One </li>\n",
    "    <li> Two </li>\n",
    "</ol>"
   ]
  },
  {
   "cell_type": "code",
   "execution_count": null,
   "id": "78c843d2-4b28-44cb-bc08-a1986de4826f",
   "metadata": {},
   "outputs": [],
   "source": [
    "For a nested ordered list you indent the internal list\n",
    "1. One\n",
    "2. Two\n",
    "3. Three\n",
    "    1.One\n",
    "    2.Two\n",
    "4. Four"
   ]
  },
  {
   "cell_type": "code",
   "execution_count": null,
   "id": "63838796-a8c4-4835-b146-559bf6346685",
   "metadata": {},
   "outputs": [],
   "source": [
    "In html:\n",
    "<ol>\n",
    "    <li> One </li>\n",
    "    <li> Two </li>\n",
    "    <ol>\n",
    "        <li> One </li>\n",
    "        <li> Two </li>\n",
    "    </ol>\n",
    "</ol>"
   ]
  },
  {
   "cell_type": "code",
   "execution_count": null,
   "id": "6cc812ff-da4d-4131-85fe-eb7815b90ea2",
   "metadata": {},
   "outputs": [],
   "source": [
    "For an unordered list, preceed the elements using -\n",
    "- One\n",
    "- Two"
   ]
  },
  {
   "cell_type": "code",
   "execution_count": null,
   "id": "1bfd72ff-afae-41e4-9b19-e6c107299b52",
   "metadata": {},
   "outputs": [],
   "source": [
    "In html you have to us li elements within an ul element\n",
    "<ul>\n",
    "    <li> One </li>\n",
    "    <li> Two </li>\n",
    "</ul>"
   ]
  },
  {
   "cell_type": "code",
   "execution_count": null,
   "id": "f953f58f-3b37-4263-ae20-3ee919d53aef",
   "metadata": {},
   "outputs": [],
   "source": [
    "For nesting it is the same as the ordered list"
   ]
  },
  {
   "cell_type": "markdown",
   "id": "b986a29c-8672-4a85-99f7-65e67f38ef8a",
   "metadata": {},
   "source": [
    "## Horizontal rules"
   ]
  },
  {
   "cell_type": "markdown",
   "id": "fbdf38e8-79a0-4617-9488-bc23feca50e2",
   "metadata": {},
   "source": [
    "---"
   ]
  },
  {
   "cell_type": "code",
   "execution_count": null,
   "id": "d368034f-4012-4e0c-8a9a-a8edcb63d024",
   "metadata": {},
   "outputs": [],
   "source": [
    "***\n",
    "---\n",
    "___\n",
    "To add a line you use any of the above"
   ]
  },
  {
   "cell_type": "markdown",
   "id": "a4288a5f-d3d6-4ff9-8f40-95cb12b56c39",
   "metadata": {},
   "source": [
    "## Links"
   ]
  },
  {
   "cell_type": "code",
   "execution_count": null,
   "id": "99ad39a2-7dbd-4f79-a95f-6e8b2f99a947",
   "metadata": {},
   "outputs": [],
   "source": [
    "To create a link [You put the visible link in square brackets](http://then the actual link it follow in parenthesis after.com/)."
   ]
  },
  {
   "cell_type": "markdown",
   "id": "c453469c-2f63-4008-98ab-5bdc0248d136",
   "metadata": {},
   "source": [
    "Example: [link](youtube.com)"
   ]
  },
  {
   "cell_type": "code",
   "execution_count": null,
   "id": "f1be3550-f8eb-48e3-b3f2-7ff757918acf",
   "metadata": {},
   "outputs": [],
   "source": [
    "You can add a title in double quotes within the parenthesis with the link [click here](http://youtube.com/ \"Youtube\")"
   ]
  },
  {
   "cell_type": "code",
   "execution_count": null,
   "id": "cbb74370-aa0b-4fc7-adb9-48a029ddaffc",
   "metadata": {},
   "outputs": [],
   "source": [
    "You can also use a reference style [youtube][1].\n",
    "\n",
    "[1]: http://youtube.com/    \"Youtube\""
   ]
  },
  {
   "cell_type": "markdown",
   "id": "5a12f63c-a24d-476b-a1ee-496cec7150cb",
   "metadata": {},
   "source": [
    "## URLs and Email Addresses"
   ]
  },
  {
   "cell_type": "code",
   "execution_count": null,
   "id": "cd37a042-1c6b-4971-bebe-68e4b693e62a",
   "metadata": {},
   "outputs": [],
   "source": [
    "written between less than and greater than symbols and shown as links\n",
    "<name@gmail.com>\n",
    "<https:/www.testlink.com>"
   ]
  },
  {
   "cell_type": "markdown",
   "id": "511c242d-d60f-4b09-97e4-c2651e0b01e4",
   "metadata": {},
   "source": [
    "## Images"
   ]
  },
  {
   "cell_type": "code",
   "execution_count": null,
   "id": "b61ad86a-8753-4b1a-be0f-49208331dff9",
   "metadata": {},
   "outputs": [],
   "source": [
    "To display an image in markdown:\n",
    "![text to be displayed if the image isn't displayed](picture.jpg)\"title\"\n",
    "The title is optional\n",
    "The file and image should be in the same folder"
   ]
  },
  {
   "cell_type": "code",
   "execution_count": null,
   "id": "29323ec2-66d9-4945-8f20-df9690918690",
   "metadata": {},
   "outputs": [],
   "source": [
    "in html:\n",
    "<img src=\"picture.jpg\">\n",
    "you can add alt and title attributes"
   ]
  }
 ],
 "metadata": {
  "kernelspec": {
   "display_name": "Python [conda env:base] *",
   "language": "python",
   "name": "conda-base-py"
  },
  "language_info": {
   "codemirror_mode": {
    "name": "ipython",
    "version": 3
   },
   "file_extension": ".py",
   "mimetype": "text/x-python",
   "name": "python",
   "nbconvert_exporter": "python",
   "pygments_lexer": "ipython3",
   "version": "3.12.7"
  }
 },
 "nbformat": 4,
 "nbformat_minor": 5
}
