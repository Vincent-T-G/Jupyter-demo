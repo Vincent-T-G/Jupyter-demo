{
 "cells": [
  {
   "cell_type": "markdown",
   "id": "cb848ffe-9b90-4f9c-8cda-49647c897bd1",
   "metadata": {},
   "source": [
    "### Print working directory"
   ]
  },
  {
   "cell_type": "code",
   "execution_count": 1,
   "id": "eda75fa1-838d-449e-9a5e-f371e4cd5840",
   "metadata": {},
   "outputs": [
    {
     "name": "stdout",
     "output_type": "stream",
     "text": [
      "/c/Users/DELL/Desktop/Jupyter demo\n"
     ]
    }
   ],
   "source": [
    "!pwd"
   ]
  },
  {
   "cell_type": "markdown",
   "id": "a0d323a1-f6b2-403a-9498-ec607b31a213",
   "metadata": {},
   "source": [
    "### Install external package"
   ]
  },
  {
   "cell_type": "code",
   "execution_count": 4,
   "id": "53e6e3e4-e691-4c63-8ecd-067c30a0d4e1",
   "metadata": {},
   "outputs": [
    {
     "name": "stdout",
     "output_type": "stream",
     "text": [
      "Requirement already satisfied: pandas in c:\\users\\dell\\anaconda3\\lib\\site-packages (2.2.2)\n",
      "Requirement already satisfied: numpy>=1.26.0 in c:\\users\\dell\\anaconda3\\lib\\site-packages (from pandas) (1.26.4)\n",
      "Requirement already satisfied: python-dateutil>=2.8.2 in c:\\users\\dell\\anaconda3\\lib\\site-packages (from pandas) (2.9.0.post0)\n",
      "Requirement already satisfied: pytz>=2020.1 in c:\\users\\dell\\anaconda3\\lib\\site-packages (from pandas) (2024.1)\n",
      "Requirement already satisfied: tzdata>=2022.7 in c:\\users\\dell\\anaconda3\\lib\\site-packages (from pandas) (2023.3)\n",
      "Requirement already satisfied: six>=1.5 in c:\\users\\dell\\anaconda3\\lib\\site-packages (from python-dateutil>=2.8.2->pandas) (1.16.0)\n"
     ]
    }
   ],
   "source": [
    "!pip install pandas"
   ]
  },
  {
   "cell_type": "code",
   "execution_count": 11,
   "id": "b8f71c41-ab4e-4063-bc6f-cfff2c5680eb",
   "metadata": {},
   "outputs": [
    {
     "name": "stdout",
     "output_type": "stream",
     "text": [
      "Requirement already satisfied: numpy in c:\\users\\dell\\anaconda3\\lib\\site-packages (1.26.4)\n",
      "Note: you may need to restart the kernel to use updated packages.\n"
     ]
    }
   ],
   "source": [
    "pip install numpy"
   ]
  },
  {
   "cell_type": "markdown",
   "id": "06e173e1-f67a-49b0-a209-6726515038e7",
   "metadata": {},
   "source": [
    "### Listing files of current directory"
   ]
  },
  {
   "cell_type": "code",
   "execution_count": 8,
   "id": "bd37daef-3500-4753-98a0-76ea870a45c9",
   "metadata": {},
   "outputs": [
    {
     "name": "stdout",
     "output_type": "stream",
     "text": [
      "anaconda_projects\n",
      "Equations.ipynb\n",
      "first_notebook.ipynb\n",
      "Markdown.ipynb\n",
      "shortcuts.ipynb\n",
      "Tables.ipynb\n",
      "Untitled.ipynb\n"
     ]
    }
   ],
   "source": [
    "!ls"
   ]
  },
  {
   "cell_type": "code",
   "execution_count": 13,
   "id": "af21ca74-327c-4e1e-aac9-0dd80be753f7",
   "metadata": {},
   "outputs": [
    {
     "name": "stdout",
     "output_type": "stream",
     "text": [
      " Volume in drive C has no label.\n",
      " Volume Serial Number is 10C8-2EA7\n",
      "\n",
      " Directory of C:\\Users\\DELL\\Desktop\\Jupyter demo\n",
      "\n",
      "09/05/2025  03:51    <DIR>          .\n",
      "09/05/2025  02:58    <DIR>          ..\n",
      "09/05/2025  03:39    <DIR>          .ipynb_checkpoints\n",
      "03/05/2025  04:41    <DIR>          anaconda_projects\n",
      "07/05/2025  05:05             2,390 Equations.ipynb\n",
      "03/05/2025  04:46               771 first_notebook.ipynb\n",
      "05/05/2025  04:13            12,374 Markdown.ipynb\n",
      "04/05/2025  06:55             8,733 shortcuts.ipynb\n",
      "06/05/2025  04:44             3,565 Tables.ipynb\n",
      "09/05/2025  03:51            12,955 Untitled.ipynb\n",
      "               6 File(s)         40,788 bytes\n",
      "               4 Dir(s)  51,228,340,224 bytes free\n"
     ]
    }
   ],
   "source": [
    "ls"
   ]
  },
  {
   "cell_type": "markdown",
   "id": "4325198c-4d51-44b7-b184-d76566e7468d",
   "metadata": {},
   "source": [
    "### Printing from shell"
   ]
  },
  {
   "cell_type": "code",
   "execution_count": 15,
   "id": "4d59abf3-5b95-49a7-aacb-6b001d01e004",
   "metadata": {},
   "outputs": [
    {
     "name": "stdout",
     "output_type": "stream",
     "text": [
      "\"Printing a message or text from shell\"\n"
     ]
    }
   ],
   "source": [
    "! echo \"Printing a message or text from shell\""
   ]
  },
  {
   "cell_type": "markdown",
   "id": "b15fa36f-a317-4674-a811-3d10f60a881c",
   "metadata": {},
   "source": [
    "### Storing the content of shell command and then printing it"
   ]
  },
  {
   "cell_type": "code",
   "execution_count": 19,
   "id": "e94d67e4-c31a-4177-bdd3-996e076e8a0c",
   "metadata": {},
   "outputs": [],
   "source": [
    "var = !ls"
   ]
  },
  {
   "cell_type": "code",
   "execution_count": 21,
   "id": "b828afc8-3f5a-4758-825c-9706a3570160",
   "metadata": {},
   "outputs": [
    {
     "name": "stdout",
     "output_type": "stream",
     "text": [
      "['anaconda_projects', 'Equations.ipynb', 'first_notebook.ipynb', 'Markdown.ipynb', 'shortcuts.ipynb', 'Tables.ipynb', 'Untitled.ipynb']\n"
     ]
    }
   ],
   "source": [
    "print(var)"
   ]
  },
  {
   "cell_type": "markdown",
   "id": "981b3f42-9678-4073-9d57-8d4242041d37",
   "metadata": {},
   "source": [
    "### Change directory"
   ]
  },
  {
   "cell_type": "code",
   "execution_count": 26,
   "id": "d47a9702-97c1-4507-9137-7681d03e678a",
   "metadata": {},
   "outputs": [
    {
     "name": "stdout",
     "output_type": "stream",
     "text": [
      "/c/Users/DELL/Desktop/Jupyter demo\n"
     ]
    }
   ],
   "source": [
    "!pwd"
   ]
  },
  {
   "cell_type": "code",
   "execution_count": 28,
   "id": "d6bcb7bc-5c64-43f7-804d-fc623c9a9139",
   "metadata": {},
   "outputs": [
    {
     "name": "stdout",
     "output_type": "stream",
     "text": [
      "C:\\users\\dell\\desktop\n"
     ]
    }
   ],
   "source": [
    "cd .."
   ]
  },
  {
   "cell_type": "code",
   "execution_count": 30,
   "id": "3007f0b9-d6a8-4599-a223-4ba32ecd9583",
   "metadata": {},
   "outputs": [
    {
     "name": "stdout",
     "output_type": "stream",
     "text": [
      "C:\\users\\dell\\desktop\\Jupyter demo\n"
     ]
    }
   ],
   "source": [
    "cd Jupyter demo"
   ]
  },
  {
   "cell_type": "markdown",
   "id": "b4638f21-9a01-4a67-ba76-be57dc319ba3",
   "metadata": {},
   "source": [
    "### Creating a new directory"
   ]
  },
  {
   "cell_type": "code",
   "execution_count": 53,
   "id": "2586b142-1727-44b9-aeca-06629fd35985",
   "metadata": {},
   "outputs": [],
   "source": [
    "!mkdir new_directory"
   ]
  },
  {
   "cell_type": "code",
   "execution_count": 35,
   "id": "b29db4cc-8a29-4d84-b49c-94915675a714",
   "metadata": {},
   "outputs": [
    {
     "name": "stdout",
     "output_type": "stream",
     "text": [
      "anaconda_projects\n",
      "Equations.ipynb\n",
      "first_notebook.ipynb\n",
      "Markdown.ipynb\n",
      "new_directory\n",
      "shortcuts.ipynb\n",
      "Tables.ipynb\n",
      "Untitled.ipynb\n"
     ]
    }
   ],
   "source": [
    "!ls"
   ]
  },
  {
   "cell_type": "markdown",
   "id": "26e96f26-25c9-4918-af72-26b98ad26d8a",
   "metadata": {},
   "source": [
    "### Moving a file from one directory to another directory"
   ]
  },
  {
   "cell_type": "code",
   "execution_count": null,
   "id": "e7855f09-e707-4192-a39c-fe9187fe26ae",
   "metadata": {},
   "outputs": [],
   "source": [
    "!mv C:\\users\\dell\\desktop\\Jupyter demo\\\"filename\" C:\\users\\dell\\desktop\\Web programs"
   ]
  },
  {
   "cell_type": "markdown",
   "id": "73e382c3-db46-4ee8-b545-be65602015a6",
   "metadata": {},
   "source": [
    "### Toggling automagic"
   ]
  },
  {
   "cell_type": "code",
   "execution_count": 44,
   "id": "39aeae1d-377e-40ca-989d-0795117f35de",
   "metadata": {},
   "outputs": [
    {
     "name": "stdout",
     "output_type": "stream",
     "text": [
      "\n",
      "Automagic is ON, % prefix IS NOT needed for line magics.\n"
     ]
    }
   ],
   "source": [
    "%automagic 2"
   ]
  },
  {
   "cell_type": "markdown",
   "id": "8b5e6501-f2d6-4a92-948c-5c47a7b201e3",
   "metadata": {},
   "source": [
    "### Deleting a directory"
   ]
  },
  {
   "cell_type": "code",
   "execution_count": 55,
   "id": "e6e44e15-7a14-477a-a409-6dc9426e3c5d",
   "metadata": {},
   "outputs": [],
   "source": [
    "!rm -r new_directory"
   ]
  },
  {
   "cell_type": "code",
   "execution_count": 57,
   "id": "681826c0-c2db-4a82-a87d-7240efc04f06",
   "metadata": {},
   "outputs": [
    {
     "name": "stdout",
     "output_type": "stream",
     "text": [
      "anaconda_projects\n",
      "Equations.ipynb\n",
      "first_notebook.ipynb\n",
      "Markdown.ipynb\n",
      "shortcuts.ipynb\n",
      "Tables.ipynb\n",
      "Untitled.ipynb\n"
     ]
    }
   ],
   "source": [
    "!ls"
   ]
  },
  {
   "cell_type": "markdown",
   "id": "c90ce03e-c214-4a00-b756-80c901bb49c2",
   "metadata": {},
   "source": [
    "### Running a python file"
   ]
  },
  {
   "cell_type": "code",
   "execution_count": null,
   "id": "b236078d-3992-4a24-bd1d-d311c9ad24ca",
   "metadata": {},
   "outputs": [],
   "source": [
    "!python \"python filename\""
   ]
  },
  {
   "cell_type": "markdown",
   "id": "b35d03c4-bc0c-423b-bca9-5070354f014a",
   "metadata": {},
   "source": [
    "### Display the contents of a python file"
   ]
  },
  {
   "cell_type": "code",
   "execution_count": null,
   "id": "3cd1e3fe-1a2a-43f6-b517-f2bfb58d04ca",
   "metadata": {},
   "outputs": [],
   "source": [
    "!cat \"python filename\""
   ]
  },
  {
   "cell_type": "markdown",
   "id": "a583c4ed-1b53-481c-b882-77699562567f",
   "metadata": {},
   "source": [
    "### Running shell scripts"
   ]
  },
  {
   "cell_type": "code",
   "execution_count": null,
   "id": "dfca4471-8468-4c7b-90d6-e8344d7f6158",
   "metadata": {},
   "outputs": [],
   "source": [
    "%%bash\n",
    "\"Write your code here\""
   ]
  }
 ],
 "metadata": {
  "kernelspec": {
   "display_name": "Python [conda env:base] *",
   "language": "python",
   "name": "conda-base-py"
  },
  "language_info": {
   "codemirror_mode": {
    "name": "ipython",
    "version": 3
   },
   "file_extension": ".py",
   "mimetype": "text/x-python",
   "name": "python",
   "nbconvert_exporter": "python",
   "pygments_lexer": "ipython3",
   "version": "3.12.7"
  }
 },
 "nbformat": 4,
 "nbformat_minor": 5
}
