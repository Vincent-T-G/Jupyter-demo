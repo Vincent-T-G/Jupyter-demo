{
 "cells": [
  {
   "cell_type": "markdown",
   "id": "f0f08646-08ef-4c3c-9b98-1ffe9cc0d300",
   "metadata": {},
   "source": [
    "# Equations"
   ]
  },
  {
   "cell_type": "code",
   "execution_count": null,
   "id": "76a6c79f-8838-4211-b3f2-eebf29566323",
   "metadata": {},
   "outputs": [],
   "source": [
    "To add an equation inline in a markdown cell we preceed and succeed the equation with a dollar sign:\n",
    "    i.e $ f(x) = y^2 $"
   ]
  },
  {
   "cell_type": "markdown",
   "id": "450f24ba-8bd9-4749-a180-538cd17d5792",
   "metadata": {},
   "source": [
    "The result is : $ f(x) = y^2 $"
   ]
  },
  {
   "cell_type": "code",
   "execution_count": null,
   "id": "a4f7cf50-5185-4a77-a545-e543f4c95572",
   "metadata": {},
   "outputs": [],
   "source": [
    "If you want the cell to be displayed stand alone in a new line then you use double dollar signs\n",
    " for example: $$ E = M * C^2 $$\n",
    "This cell results are:"
   ]
  },
  {
   "cell_type": "markdown",
   "id": "ba926d40-36c8-4286-863b-0a44f9762f1a",
   "metadata": {},
   "source": [
    "If you want the cell to be displayed stand alone in a new line then you use double dollar signs\n",
    " for example: $$ E = M * C^2 $$"
   ]
  },
  {
   "cell_type": "code",
   "execution_count": null,
   "id": "6d497869-0a11-4786-811f-1a78351cfac9",
   "metadata": {},
   "outputs": [],
   "source": [
    "You can also use latex syntax which is shown below:\n",
    "\\begin{equation}\n",
    "a^2 + b^2 = c^2\n",
    "\\end{equation}\n",
    "\n",
    "and the results are:"
   ]
  },
  {
   "cell_type": "markdown",
   "id": "b19ffb5e-ca5c-4879-8ea1-e3a64aa7c60b",
   "metadata": {},
   "source": [
    "\\begin{equation}\n",
    "a^2 + b^2 = c^2\n",
    "\\end{equation}"
   ]
  },
  {
   "cell_type": "code",
   "execution_count": null,
   "id": "19031ecb-a207-495d-8b08-894e1491982e",
   "metadata": {},
   "outputs": [],
   "source": []
  }
 ],
 "metadata": {
  "kernelspec": {
   "display_name": "Python [conda env:base] *",
   "language": "python",
   "name": "conda-base-py"
  },
  "language_info": {
   "codemirror_mode": {
    "name": "ipython",
    "version": 3
   },
   "file_extension": ".py",
   "mimetype": "text/x-python",
   "name": "python",
   "nbconvert_exporter": "python",
   "pygments_lexer": "ipython3",
   "version": "3.12.7"
  }
 },
 "nbformat": 4,
 "nbformat_minor": 5
}
