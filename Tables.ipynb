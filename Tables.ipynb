{
 "cells": [
  {
   "cell_type": "markdown",
   "id": "830b6267-01d6-4052-8a2d-3ce70038eeeb",
   "metadata": {},
   "source": [
    "# TABLES"
   ]
  },
  {
   "cell_type": "code",
   "execution_count": null,
   "id": "f48cd5d2-2045-4aab-b7fb-4388be3f13dd",
   "metadata": {},
   "outputs": [],
   "source": [
    "To insert a table  in markdown you follow the following syntax:"
   ]
  },
  {
   "cell_type": "code",
   "execution_count": null,
   "id": "31122597-27d3-44b1-905d-e8116b46d32c",
   "metadata": {},
   "outputs": [],
   "source": [
    "|Name|Age|Basic Salary|\n",
    "|----|----|----|\n",
    "|Sheila|23|70000|\n",
    "|Vincent|23|100000|\n",
    "|Janet|22|62000|"
   ]
  },
  {
   "cell_type": "code",
   "execution_count": null,
   "id": "caac10f5-c232-4707-973c-08634a3b82b1",
   "metadata": {},
   "outputs": [],
   "source": [
    "Results:"
   ]
  },
  {
   "cell_type": "markdown",
   "id": "dc7c4899-307c-4e6b-bde5-72ccfb3c4aac",
   "metadata": {},
   "source": [
    "|Name|Age|Basic Salary|\n",
    "|----|----|----|\n",
    "|Sheila|23|70000|\n",
    "|Vincent|23|100000|\n",
    "|Janet|22|62000|"
   ]
  },
  {
   "cell_type": "markdown",
   "id": "49ba3279-1989-4957-9c62-3fdab5c4d8b1",
   "metadata": {},
   "source": [
    "# How to align the data in the table"
   ]
  },
  {
   "cell_type": "code",
   "execution_count": null,
   "id": "b3919955-30fe-4f8a-9760-50265019b90f",
   "metadata": {},
   "outputs": [],
   "source": [
    "To align you change the syntax of the second row:\n",
    "|:-:| : central alignment\n",
    "|-:| : right alignment\n",
    "|:-| : left alignment\n",
    "\n",
    "Example:\n",
    "\n",
    "Right alignment: Cell 1\n",
    "\n",
    "|Name|Age|Basic Salary|\n",
    "|-:|-:|-:|\n",
    "|Sheila|23|70000|\n",
    "|Vincent|23|100000|\n",
    "|Janet|22|62000|\n",
    "\n",
    "Central alignment: Cell 2\n",
    "\n",
    "|Name|Age|Basic Salary|\n",
    "|:-:|:-:|:-:|\n",
    "|Sheila|23|70000|\n",
    "|Vincent|23|100000|\n",
    "|Janet|22|62000|\n",
    "\n",
    "Left alignment: Cell 3\n",
    "\n",
    "|Name|Age|Basic Salary|\n",
    "|:-|:-|:-|\n",
    "|Sheila|23|70000|\n",
    "|Vincent|23|100000|\n",
    "|Janet|22|62000|"
   ]
  },
  {
   "cell_type": "markdown",
   "id": "a750f5a4-1997-473e-a94b-936ef6eaf4fa",
   "metadata": {},
   "source": [
    "### Right aligned\n",
    "\n",
    "|Name|Age|Basic Salary|\n",
    "|-:|-:|-:|\n",
    "|Sheila|23|70000|\n",
    "|Vincent|23|100000|\n",
    "|Janet|22|62000|"
   ]
  },
  {
   "cell_type": "markdown",
   "id": "bf5a5854-cbbe-451c-ae44-31935a486c8a",
   "metadata": {},
   "source": [
    "### Centrally aligned\n",
    "\n",
    "|Name|Age|Basic Salary|\n",
    "|:-:|:-:|:-:|\n",
    "|Sheila|23|70000|\n",
    "|Vincent|23|100000|\n",
    "|Janet|22|62000|"
   ]
  },
  {
   "cell_type": "markdown",
   "id": "b5c7cff4-b968-4e28-8e37-cfaa73b3955c",
   "metadata": {},
   "source": [
    "### Left aligned\n",
    "\n",
    "|Name|Age|Basic Salary|\n",
    "|:-|:-|:-|\n",
    "|Sheila|23|70000|\n",
    "|Vincent|23|100000|\n",
    "|Janet|22|62000|"
   ]
  }
 ],
 "metadata": {
  "kernelspec": {
   "display_name": "Python [conda env:base] *",
   "language": "python",
   "name": "conda-base-py"
  },
  "language_info": {
   "codemirror_mode": {
    "name": "ipython",
    "version": 3
   },
   "file_extension": ".py",
   "mimetype": "text/x-python",
   "name": "python",
   "nbconvert_exporter": "python",
   "pygments_lexer": "ipython3",
   "version": "3.12.7"
  }
 },
 "nbformat": 4,
 "nbformat_minor": 5
}
