{
 "cells": [
  {
   "cell_type": "markdown",
   "id": "cef80a73-3acd-48e4-8256-9a6933bd341f",
   "metadata": {},
   "source": [
    "# PART 1"
   ]
  },
  {
   "cell_type": "markdown",
   "id": "a184edfa-35c1-498e-a0a0-23acb59b994e",
   "metadata": {},
   "source": [
    "This notebook is created for the purpose of training to use the jupyter notebooks and to try important keyboard shortcuts"
   ]
  },
  {
   "cell_type": "code",
   "execution_count": 4,
   "id": "5c80c2ea-2785-40b1-806c-237926014972",
   "metadata": {},
   "outputs": [
    {
     "name": "stdout",
     "output_type": "stream",
     "text": [
      "Hello World\n"
     ]
    }
   ],
   "source": [
    "print(\"Hello World\")"
   ]
  },
  {
   "cell_type": "markdown",
   "id": "52f0217d-8eea-4a64-8412-91f2ca3f0e4a",
   "metadata": {},
   "source": [
    "To run the cell:\n",
    "Shift + Enter : Runs the cell and selects the cell below :If there is no cell below it creates a new cell\n",
    "Ctrl + Enter : Runs the cell but doesn't select the cell below"
   ]
  },
  {
   "cell_type": "code",
   "execution_count": 7,
   "id": "65a38387-6f35-42d5-a649-384934455d63",
   "metadata": {},
   "outputs": [],
   "source": [
    "num = 5"
   ]
  },
  {
   "cell_type": "markdown",
   "id": "3a2877e7-1aeb-4b0f-b149-4d7e84512a76",
   "metadata": {},
   "source": [
    "To convert a cell into a markdown cell we use: Esc + M\n",
    "To convert a markdown cell into a code cell we use : Esc + Y"
   ]
  },
  {
   "cell_type": "code",
   "execution_count": 10,
   "id": "e01bee6e-f7e6-487f-87cd-cd56cd19339d",
   "metadata": {},
   "outputs": [],
   "source": [
    "num += 7"
   ]
  },
  {
   "cell_type": "markdown",
   "id": "ac694932-5e5f-4b88-922e-9406412ee4bc",
   "metadata": {},
   "source": [
    "To select the cell bellow you use: Down arrow key \n",
    "To select the cell above you use; Up arrow key"
   ]
  },
  {
   "cell_type": "code",
   "execution_count": 13,
   "id": "9923d789-c1c1-40ed-9f10-57e189c1a376",
   "metadata": {},
   "outputs": [
    {
     "data": {
      "text/plain": [
       "12"
      ]
     },
     "execution_count": 13,
     "metadata": {},
     "output_type": "execute_result"
    }
   ],
   "source": [
    "num"
   ]
  },
  {
   "cell_type": "markdown",
   "id": "9b733c59-7fb1-42e7-a935-8019b662de57",
   "metadata": {},
   "source": [
    "To insert a new cell below: Esc + B"
   ]
  },
  {
   "cell_type": "markdown",
   "id": "ff2184b4-b8e4-4c2f-8085-a7e2b99b24c2",
   "metadata": {},
   "source": [
    "To insert a new cell above: Esc + A"
   ]
  },
  {
   "cell_type": "code",
   "execution_count": 17,
   "id": "724e82e0-dd26-4503-a116-38cc8abdf567",
   "metadata": {},
   "outputs": [
    {
     "data": {
      "text/plain": [
       "6.0"
      ]
     },
     "execution_count": 17,
     "metadata": {},
     "output_type": "execute_result"
    }
   ],
   "source": [
    "num/2"
   ]
  },
  {
   "cell_type": "markdown",
   "id": "fb2385f0-ac3a-49a3-b1e6-548e49d6d206",
   "metadata": {},
   "source": [
    "To copy a cell: Esc + C\n",
    "To paste the cell:\n",
    "    Below the current cell: Esc + V\n",
    "    Above the current cell: Esc + Shift + V\n",
    "To cut the cell: Esc + X"
   ]
  },
  {
   "cell_type": "code",
   "execution_count": 26,
   "id": "fe92ab47-f8a1-45a6-8cf1-9a5baef2df41",
   "metadata": {},
   "outputs": [
    {
     "data": {
      "text/plain": [
       "3.0"
      ]
     },
     "execution_count": 26,
     "metadata": {},
     "output_type": "execute_result"
    }
   ],
   "source": [
    "num/2"
   ]
  },
  {
   "cell_type": "markdown",
   "id": "78308c42-49ae-4e5d-bd3b-9d552480a774",
   "metadata": {},
   "source": [
    "To delete a cell: Esc + D,D\n",
    "To undo deletion: Esc + Z"
   ]
  },
  {
   "cell_type": "markdown",
   "id": "0a641633-8d32-47f7-aa07-2097a4a1d8ee",
   "metadata": {},
   "source": [
    "To select multiple cells: Esc + Shift + Direction\n",
    "To merge selected cells: Esc + Shift + M\n",
    "To split a cell at a given point: Ctrl + Shift + -"
   ]
  },
  {
   "cell_type": "markdown",
   "id": "a4cbb844-1f68-4890-a743-a4c1dacb646c",
   "metadata": {},
   "source": [
    "To save the notebook: Ctrl + S"
   ]
  },
  {
   "cell_type": "code",
   "execution_count": 33,
   "id": "4efa95f8-3119-4162-9a94-0734eeaf93d7",
   "metadata": {},
   "outputs": [
    {
     "name": "stdout",
     "output_type": "stream",
     "text": [
      "8\n",
      "8\n"
     ]
    }
   ],
   "source": [
    "num = 3\n",
    "num += 5\n",
    "print(num)\n",
    "print(num)"
   ]
  },
  {
   "cell_type": "markdown",
   "id": "007bbda6-0e35-4bff-a8c4-c41092b3968b",
   "metadata": {},
   "source": [
    "To toggle line numbers: \n",
    "    For a cell: Esc + L\n",
    "    For the entire doc: Esc + Shift + L"
   ]
  },
  {
   "cell_type": "markdown",
   "id": "faa278c6-0f89-42de-8a67-da8b27618e42",
   "metadata": {},
   "source": [
    "To hide or show the output of a cell: Esc + O"
   ]
  },
  {
   "cell_type": "markdown",
   "id": "2ff45891-7eda-4b10-8599-922b50850fdd",
   "metadata": {},
   "source": [
    "To see all shortcuts press: Ctrl + Shift + H"
   ]
  },
  {
   "cell_type": "markdown",
   "id": "1c3fe572-7a63-4d7a-97be-45a2b60d559e",
   "metadata": {},
   "source": [
    "To restart the kernel: Esc + 0 + 0"
   ]
  },
  {
   "cell_type": "markdown",
   "id": "a4c2aafd-894a-4eca-87a3-d86b023b4ec7",
   "metadata": {},
   "source": [
    "To scroll down: Space\n",
    "To scroll up: Shift + space"
   ]
  },
  {
   "cell_type": "markdown",
   "id": "548db166-fcf9-4494-9cce-ebb59e3eac8b",
   "metadata": {},
   "source": [
    "To find and replace a word: Ctrl + F"
   ]
  },
  {
   "cell_type": "markdown",
   "id": "ce0ecbe8-d815-48dc-96a8-609783cd36e5",
   "metadata": {},
   "source": [
    "To open command palette: Ctrl + Shift + C"
   ]
  },
  {
   "cell_type": "markdown",
   "id": "ced2b380-af1a-497a-b956-d52a95b83fec",
   "metadata": {},
   "source": [
    "# PART 2"
   ]
  },
  {
   "cell_type": "markdown",
   "id": "5eafc530-7cb5-40a8-b167-ede544cef926",
   "metadata": {},
   "source": [
    "Tab: indent"
   ]
  },
  {
   "cell_type": "markdown",
   "id": "a66376c5-12ee-49e4-b604-32edf3b3149c",
   "metadata": {},
   "source": [
    "Ctrl A: Select all"
   ]
  },
  {
   "cell_type": "markdown",
   "id": "39fd8cdb-2f44-4e78-8522-ebf0104fbcec",
   "metadata": {},
   "source": [
    "Ctrl Z: Undo"
   ]
  },
  {
   "cell_type": "markdown",
   "id": "7fd786b3-bb2c-42c1-85db-5754d65887e1",
   "metadata": {
    "jp-MarkdownHeadingCollapsed": true
   },
   "source": [
    "Ctrl /: comment"
   ]
  },
  {
   "cell_type": "markdown",
   "id": "d373b0ee-eea7-4d23-b7e6-9922fdd2d748",
   "metadata": {},
   "source": [
    "Ctrl D: delete whole line"
   ]
  },
  {
   "cell_type": "markdown",
   "id": "de95819f-86d8-47b1-8773-450e964559d7",
   "metadata": {},
   "source": [
    "Ctrl U: Undo selection"
   ]
  },
  {
   "cell_type": "markdown",
   "id": "b6bb333b-3ab7-44fe-b614-f78683d0622b",
   "metadata": {},
   "source": [
    "Insert: Toggle overwrite flag"
   ]
  },
  {
   "cell_type": "markdown",
   "id": "4424f352-ef80-464f-84a2-26dbe17b1a5a",
   "metadata": {},
   "source": [
    "Ctrl Home: Go to cell start"
   ]
  },
  {
   "cell_type": "markdown",
   "id": "fea3957a-70ff-43d5-8ec5-5c956e26b9ba",
   "metadata": {},
   "source": [
    "Ctrl End: Go to cell end"
   ]
  },
  {
   "cell_type": "markdown",
   "id": "75025148-a283-48c6-82cf-287cb7a36f16",
   "metadata": {},
   "source": [
    "Ctrl Right: Moves the cursor one word to the right"
   ]
  },
  {
   "cell_type": "markdown",
   "id": "cb868888-5cec-422f-9e7e-999443eaa69f",
   "metadata": {},
   "source": [
    "Ctrl Left: Moves the cursor one word to the left"
   ]
  },
  {
   "cell_type": "markdown",
   "id": "883ac55a-ac6a-482b-acf7-60bbd5053232",
   "metadata": {},
   "source": [
    "Ctrl Backspace: Deletes the word before"
   ]
  },
  {
   "cell_type": "markdown",
   "id": "fd3c4b69-21bd-485d-8dd3-7b2ebab81102",
   "metadata": {},
   "source": [
    "Ctrl Delete: Delete word after"
   ]
  },
  {
   "cell_type": "code",
   "execution_count": null,
   "id": "93aa82e9-0558-4683-b86f-582508e609d3",
   "metadata": {},
   "outputs": [],
   "source": []
  }
 ],
 "metadata": {
  "kernelspec": {
   "display_name": "Python [conda env:base] *",
   "language": "python",
   "name": "conda-base-py"
  },
  "language_info": {
   "codemirror_mode": {
    "name": "ipython",
    "version": 3
   },
   "file_extension": ".py",
   "mimetype": "text/x-python",
   "name": "python",
   "nbconvert_exporter": "python",
   "pygments_lexer": "ipython3",
   "version": "3.12.7"
  }
 },
 "nbformat": 4,
 "nbformat_minor": 5
}
